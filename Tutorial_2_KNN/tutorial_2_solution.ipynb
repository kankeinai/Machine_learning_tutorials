{
 "cells": [
  {
   "cell_type": "markdown",
   "id": "0bc733d5",
   "metadata": {},
   "source": [
    "# Tutorial 1 – Simple Classifiers\n",
    "\n",
    "Nearest Centroid Classifiers:\n",
    "\n",
    "a) Program an iteratively trained nearest centroid classifier (NCC) that classifies\n",
    "the digit 0 against all others\n",
    "\n",
    "b) Train the NCC on 70% of the entire data set\n",
    "\n",
    "c) In each iteration of the training phase store the prediction accuracy on the remaining 30% of the data (the test data set)\n",
    "\n",
    "d) The NCC function should return the accuracy on the test data and the weight vector\n",
    "\n",
    "e) Plot the accuracy as a function of iterations and plot the centroid of the digit 0 as an image\n"
   ]
  },
  {
   "cell_type": "code",
   "execution_count": 8,
   "id": "746b3906",
   "metadata": {},
   "outputs": [],
   "source": [
    "# please fill all missing lines\n",
    "# you need to start with the function 'digits'\n",
    "# then continue with ncc_train and then predict_ncc\n",
    "# if it the code is completed correctly,\n",
    "# it will print a pdf in the local folder with results\n",
    "# happy coding..\n",
    "\n",
    "import pylab as pl\n",
    "import scipy as sp\n",
    "import numpy as np\n",
    "from scipy.io import loadmat\n",
    "import pdb"
   ]
  },
  {
   "cell_type": "code",
   "execution_count": 9,
   "id": "79c01c7d",
   "metadata": {},
   "outputs": [],
   "source": [
    "import warnings\n",
    "warnings.filterwarnings('ignore')"
   ]
  },
  {
   "cell_type": "code",
   "execution_count": 10,
   "id": "a1ad29d9",
   "metadata": {},
   "outputs": [],
   "source": [
    "def load_data(fname):\n",
    "    # load the data\n",
    "    data = loadmat(fname)\n",
    "    # extract images and labels\n",
    "    imgs = data['data_patterns']\n",
    "    labels = data['data_labels']\n",
    "    return imgs, labels"
   ]
  },
  {
   "cell_type": "code",
   "execution_count": 11,
   "id": "fb283685",
   "metadata": {},
   "outputs": [],
   "source": [
    "fname = \"usps.mat\"\n",
    "imgs,labels = load_data(fname)"
   ]
  },
  {
   "cell_type": "code",
   "execution_count": 12,
   "id": "c31be51b",
   "metadata": {},
   "outputs": [
    {
     "data": {
      "text/plain": [
       "2007"
      ]
     },
     "execution_count": 12,
     "metadata": {},
     "output_type": "execute_result"
    }
   ],
   "source": [
    "imgs.shape[1]"
   ]
  },
  {
   "cell_type": "code",
   "execution_count": 13,
   "id": "48c01888",
   "metadata": {},
   "outputs": [],
   "source": [
    "def ncc_train(X,Y, Xtest, Ytest):\n",
    "    # initialize accuracy vector\n",
    "    acc = sp.zeros(X.shape[-1])\n",
    "    # unique class labels\n",
    "    cids = sp.unique(Y)\n",
    "    # initialize mu, shape should be (256,2) - why? \n",
    "    mu = np.zeros((X.shape[0], len(cids)))\n",
    "    # initialize counter , shape should be (2,) - why?\n",
    "    Nk = np.zeros(len(cids))\n",
    "\n",
    "    # loop over all data points in training set\n",
    "    for n in range(len(Y)):\n",
    "        # set idx to current class label\n",
    "        idx = cids==Y[n]\n",
    "        # update mu\n",
    "        \n",
    "        mu[:,idx] = (n/(n+1)*mu[:,idx].T+1/(n+1)*X[:,n]).T\n",
    "        # update counter\n",
    "        Nk[idx]+=1\n",
    "        # predict test labels with current mu\n",
    "        yhat = predict_ncc(Xtest, mu)\n",
    "        # calculate current accuracy with test labels\n",
    "        acc[n] = np.sum(yhat==Ytest)/len(Ytest)\n",
    "    # return weight vector and error\n",
    "    return mu, acc"
   ]
  },
  {
   "cell_type": "code",
   "execution_count": 14,
   "id": "5406d8e0",
   "metadata": {},
   "outputs": [],
   "source": [
    "def predict_ncc(X, mu):\n",
    "    # do nearest-centroid classification\n",
    "    # initialize distance matrix with zeros and shape (602,2) - why?\n",
    "    NCdist = np.zeros((X.shape[1], mu.shape[1]))\n",
    "    # compute euclidean distance to centroids\n",
    "    # loop over both classes\n",
    "    for ic in sp.arange(mu.shape[-1]):\n",
    "        # calculate distances of every point to centroid\n",
    "        # in one line\n",
    "        NCdist[:,ic] = np.sqrt(np.sum((X.T-mu[:,ic])**2, axis=1))\n",
    "    # assign the class label of the nearest (euclidean distance) centroid\n",
    "    Yclass = NCdist.argmin(axis=1)\n",
    "    Yclass[Yclass==0]=-1 #for some reason prof did -1 for not 0 (okaaaay...)\n",
    "    \n",
    "    return Yclass"
   ]
  },
  {
   "cell_type": "code",
   "execution_count": 15,
   "id": "91b97fdf",
   "metadata": {},
   "outputs": [
    {
     "data": {
      "image/png": "[encoded data removed]",
      "text/plain": [
       "<Figure size 720x360 with 3 Axes>"
      ]
     },
     "metadata": {
      "needs_background": "light"
     },
     "output_type": "display_data"
    }
   ],
   "source": [
    "def digits(digit):\n",
    "    fname = \"usps.mat\"\n",
    "    imgs,labels = load_data(fname)\n",
    "    # we only want to classify one digit \n",
    "    labels = sp.sign((labels[digit,:]>0)-.5)\n",
    "\n",
    "    # please think about what the next lines do\n",
    "    permidx = sp.random.permutation(sp.arange(imgs.shape[-1]))\n",
    "    trainpercent = 70.\n",
    "    stopat = sp.floor(labels.shape[-1]*trainpercent/100.)\n",
    "    stopat = int(stopat)\n",
    "    \n",
    "\n",
    "    # cut segment data into train and test set into two non-overlapping sets:\n",
    "    X = imgs[:, permidx[:stopat], ]\n",
    "    Y = labels[permidx[:stopat]]\n",
    "    Xtest = imgs[:, permidx[stopat:]]\n",
    "    Ytest = labels[permidx[stopat:]]\n",
    "    \n",
    "    #check that shapes of X and Y make sense..\n",
    "    # it might makes sense to print them\n",
    "    \n",
    "    mu,acc_ncc = ncc_train(X,Y,Xtest,Ytest)\n",
    "\n",
    "    fig = pl.figure(figsize=(10,5))\n",
    "    ax1 = fig.add_subplot(1,2,1)\n",
    "    ax1.plot(acc_ncc*100.)\n",
    "    pl.xlabel('Iterations')\n",
    "    pl.title('NCC')\n",
    "    pl.ylabel('Accuracy [%]')\n",
    "\n",
    "    # and imshow the weight vector\n",
    "    ax2 = fig.add_subplot(1,2,2)\n",
    "    # reshape weight vector\n",
    "    weights = sp.reshape(mu[:,-1],(int(sp.sqrt(imgs.shape[0])),int(sp.sqrt(imgs.shape[0]))))\n",
    "    # plot the weight image\n",
    "    imgh = ax2.imshow(weights)\n",
    "    # with colorbar\n",
    "    pl.colorbar(imgh)\n",
    "    ax2.set_title('NCC Centroid')\n",
    "    # remove axis ticks\n",
    "    pl.xticks(())\n",
    "    pl.yticks(())\n",
    "    # remove axis ticks\n",
    "    pl.xticks(())\n",
    "    pl.yticks(())\n",
    "\n",
    "    # write the picture to pdf\n",
    "    fname = 'NCC_digits-%d.pdf'%digit\n",
    "    pl.savefig(fname)\n",
    "\n",
    "digits(0)"
   ]
  },
  {
   "cell_type": "code",
   "execution_count": null,
   "id": "9555d162",
   "metadata": {},
   "outputs": [],
   "source": []
  }
 ],
 "metadata": {
  "kernelspec": {
   "display_name": "Python 3",
   "language": "python",
   "name": "python3"
  },
  "language_info": {
   "codemirror_mode": {
    "name": "ipython",
    "version": 3
   },
   "file_extension": ".py",
   "mimetype": "text/x-python",
   "name": "python",
   "nbconvert_exporter": "python",
   "pygments_lexer": "ipython3",
   "version": "3.8.8"
  }
 },
 "nbformat": 4,
 "nbformat_minor": 5
}
