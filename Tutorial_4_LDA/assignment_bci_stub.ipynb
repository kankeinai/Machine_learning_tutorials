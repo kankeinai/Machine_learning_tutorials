{
 "cells": [
  {
   "cell_type": "code",
   "execution_count": 44,
   "metadata": {},
   "outputs": [],
   "source": [
    "import pylab as pl\n",
    "import scipy as sp\n",
    "import numpy as np\n",
    "from scipy.linalg import eig\n",
    "from scipy.io import loadmat\n",
    "import pdb\n",
    "import sympy as sym"
   ]
  },
  {
   "cell_type": "code",
   "execution_count": 45,
   "metadata": {},
   "outputs": [],
   "source": [
    "import warnings\n",
    "warnings.filterwarnings('ignore')"
   ]
  },
  {
   "cell_type": "code",
   "execution_count": 46,
   "metadata": {},
   "outputs": [],
   "source": [
    "def load_data(fname):\n",
    "    # load the data\n",
    "    data = loadmat(fname)\n",
    "    X,Y = data['X'],data['Y']\n",
    "    # collapse the time-electrode dimensions\n",
    "    X = sp.reshape(X,(X.shape[0]*X.shape[1],X.shape[2]))\n",
    "    # transform the labels to (-1,1)\n",
    "    Y = sp.sign((Y[0,:]>0) -.5)\n",
    "    return X,Y"
   ]
  },
  {
   "cell_type": "code",
   "execution_count": 47,
   "metadata": {},
   "outputs": [
    {
     "name": "stdout",
     "output_type": "stream",
     "text": [
      "(310, 5322)\n",
      "(5322,)\n"
     ]
    }
   ],
   "source": [
    "X,Y = load_data('bcidata.mat')\n",
    "print(X.shape)\n",
    "print(Y.shape)\n"
   ]
  },
  {
   "cell_type": "code",
   "execution_count": 48,
   "metadata": {},
   "outputs": [],
   "source": [
    "permidx = sp.random.permutation(sp.arange(X.shape[-1]))\n",
    "trainpercent = 70.\n",
    "stopat = sp.floor(Y.shape[-1]*trainpercent/100.)\n",
    "stopat= int(stopat)\n",
    "\n",
    "# cut segment data into train and test set into two non-overlapping sets:\n",
    "Xtrain = X[:, permidx[:stopat], ]\n",
    "Ytrain = Y[permidx[:stopat]]\n",
    "Xtest = X[:, permidx[stopat:]]\n",
    "Ytest = Y[permidx[stopat:]]"
   ]
  },
  {
   "cell_type": "code",
   "execution_count": 49,
   "metadata": {},
   "outputs": [
    {
     "data": {
      "text/plain": [
       "array([0.6815837 , 0.31165163])"
      ]
     },
     "execution_count": 49,
     "metadata": {},
     "output_type": "execute_result"
    }
   ],
   "source": [
    "size = np.unique(Y).shape[0]\n",
    "np.random.random(size)"
   ]
  },
  {
   "cell_type": "code",
   "execution_count": 50,
   "metadata": {},
   "outputs": [],
   "source": [
    "def predict(X, Y, w):\n",
    "    result = np.argmin(np.array([np.sqrt(np.sum((X.T-W)**2, axis=1)) for W in w]),axis=0)\n",
    "    result[result==0] = -1\n",
    "    return np.sum(result*Y>0)/len(Y)*100"
   ]
  },
  {
   "cell_type": "code",
   "execution_count": 146,
   "metadata": {},
   "outputs": [],
   "source": [
    "def train_ncc(X,Y):\n",
    "    mu_0 = np.mean(X.T[Y==-1],axis=0)\n",
    "    mu_1 =  np.mean(X.T[Y==1],axis=0)\n",
    "    return np.array([mu_1, mu_0])"
   ]
  },
  {
   "cell_type": "code",
   "execution_count": 201,
   "metadata": {},
   "outputs": [],
   "source": [
    "def train_lda(X,Y):\n",
    "    mu_1, mu_0 = train_ncc(X, Y)\n",
    "    S_B = (mu_1-mu_0)*((mu_1-mu_0).reshape(-1,1))\n",
    "    S_W = (X.T[Y==-1]-mu_0.T).T @ (X.T[Y==-1]-mu_0.T)/Y[Y==-1].shape[0]+ (X.T[Y==1]-mu_1.T).T @ (X.T[Y==1]-mu_1.T)/Y[Y==1].shape[0]\n",
    "    w, eig_vector = np.linalg.eig(np.linalg.inv(S_W).T @ S_B)\n",
    "    \n",
    "    idx = w.argsort()[::-1] \n",
    "    w = w[idx]\n",
    "    \n",
    "    eig_vector = eig_vector[:,idx]\n",
    "    print(eig_vector.shape)\n",
    "\n",
    "    b = ((eig_vector@mu_1+eig_vector@mu_0)/2).T\n",
    "    \n",
    "    return np.array([b, w])"
   ]
  },
  {
   "cell_type": "code",
   "execution_count": 202,
   "metadata": {},
   "outputs": [
    {
     "name": "stdout",
     "output_type": "stream",
     "text": [
      "(310, 310)\n"
     ]
    },
    {
     "data": {
      "text/plain": [
       "((2, 310), (2, 310))"
      ]
     },
     "execution_count": 202,
     "metadata": {},
     "output_type": "execute_result"
    }
   ],
   "source": [
    "w_ncc = train_ncc(Xtrain,Ytrain)\n",
    "w_lda = train_lda(Xtrain,Ytrain)\n",
    "w_ncc.shape, w_lda.shape"
   ]
  },
  {
   "cell_type": "code",
   "execution_count": 203,
   "metadata": {},
   "outputs": [],
   "source": [
    "def compare_classifiers():\n",
    "    '''\n",
    "    compares nearest centroid classifier and linear discriminant analysis\n",
    "    '''\n",
    "    fname = 'bcidata.mat'\n",
    "    X,Y = load_data(fname)\n",
    "\n",
    "    permidx = sp.random.permutation(sp.arange(X.shape[-1]))\n",
    "    trainpercent = 70.\n",
    "    stopat = int(sp.floor(Y.shape[-1]*trainpercent/100.))\n",
    "    #pdb.set_trace()\n",
    "    \n",
    "    X,Y,Xtest,Ytest = X[:,permidx[:stopat]],Y[permidx[:stopat]],X[:,permidx[stopat:]],Y[permidx[stopat:]]\n",
    "\n",
    "    w_ncc, b_ncc = train_ncc(X, Y)\n",
    "    w_lda, b_lda = train_lda(X, Y)\n",
    "    fig = pl.figure(figsize=(12,5))\n",
    "\n",
    "    ax1 = fig.add_subplot(1,2,1)\n",
    "    #pl.hold(True)\n",
    "    ax1.hist(w_ncc.dot(Xtest[:, Ytest<0]))\n",
    "    ax1.hist(w_ncc.dot(Xtest[:, Ytest>0]))\n",
    "    ax1.set_xlabel('$w^{T}_{NCC}X$')\n",
    "    ax1.legend(('non-target','target'))\n",
    "\n",
    "    ax1.set_title(\"NCC Acc \" + str(predict(Xtest, Ytest,(b_ncc,w_ncc))) + \"%\")\n",
    "    ax2 = fig.add_subplot(1,2,2)\n",
    "    ax2.hist(w_lda.dot(Xtest[:,Ytest<0]))\n",
    "    ax2.hist(w_lda.dot(Xtest[:,Ytest>0]))\n",
    "    ax2.set_xlabel('$w^{T}_{LDA}X$')\n",
    "    ax2.legend(('non-target','target'))\n",
    "    ax2.set_title(\"LDA Acc \" + str(predict(Xtest, Ytest,(b_lda,w_lda))) + \"%\")\n",
    "    pl.savefig('ncc-lda-comparison.pdf')\n"
   ]
  },
  {
   "cell_type": "code",
   "execution_count": 204,
   "metadata": {},
   "outputs": [
    {
     "name": "stdout",
     "output_type": "stream",
     "text": [
      "(310, 310)\n"
     ]
    },
    {
     "data": {
      "image/png": "[encoded data removed]",
      "text/plain": [
       "<Figure size 864x360 with 2 Axes>"
      ]
     },
     "metadata": {
      "needs_background": "light"
     },
     "output_type": "display_data"
    }
   ],
   "source": [
    "compare_classifiers()"
   ]
  },
  {
   "cell_type": "code",
   "execution_count": null,
   "metadata": {},
   "outputs": [],
   "source": [
    "def crossvalidate(X, Y, f=10,trainfunction=train_lda):\n",
    "    ''' \n",
    "    Test generalization performance of a linear classifier\n",
    "    Input:\tX\tdata (dims-by-samples)\n",
    "            Y\tlabels (1-by-samples)\n",
    "            f\tnumber of cross-validation folds\n",
    "            trainfunction \ttrains linear classifier\n",
    "    '''\n",
    "    ...\n",
    "    for ifold in sp.arange(f):\n",
    "        ...\n",
    "        # train classifier\n",
    "        w, b = trainfunction(X[:,train],Y[train])\n",
    "        # compute accuracy on training data\n",
    "        acc_train[ifold] = predict((w,b), X)\n",
    "        # compute accuracy on test data\n",
    "        acc_test[ifold] = ...\n",
    "\n",
    "    return acc_train, acc_test\n"
   ]
  },
  {
   "cell_type": "code",
   "execution_count": 17,
   "metadata": {},
   "outputs": [
    {
     "ename": "NameError",
     "evalue": "name 'train' is not defined",
     "output_type": "error",
     "traceback": [
      "\u001b[0;31m---------------------------------------------------------------------------\u001b[0m",
      "\u001b[0;31mNameError\u001b[0m                                 Traceback (most recent call last)",
      "\u001b[0;32m<ipython-input-17-108702917a82>\u001b[0m in \u001b[0;36m<module>\u001b[0;34m\u001b[0m\n\u001b[1;32m      1\u001b[0m \u001b[0mX\u001b[0m\u001b[0;34m,\u001b[0m\u001b[0mY\u001b[0m \u001b[0;34m=\u001b[0m \u001b[0mload_data\u001b[0m\u001b[0;34m(\u001b[0m\u001b[0;34m'bcidata.mat'\u001b[0m\u001b[0;34m)\u001b[0m\u001b[0;34m\u001b[0m\u001b[0;34m\u001b[0m\u001b[0m\n\u001b[0;32m----> 2\u001b[0;31m \u001b[0mcrossvalidate\u001b[0m\u001b[0;34m(\u001b[0m\u001b[0mX\u001b[0m\u001b[0;34m,\u001b[0m\u001b[0mY\u001b[0m\u001b[0;34m,\u001b[0m\u001b[0mf\u001b[0m\u001b[0;34m=\u001b[0m\u001b[0;36m10\u001b[0m\u001b[0;34m,\u001b[0m\u001b[0mtrainfunction\u001b[0m\u001b[0;34m=\u001b[0m\u001b[0mtrain_lda\u001b[0m\u001b[0;34m)\u001b[0m\u001b[0;34m\u001b[0m\u001b[0;34m\u001b[0m\u001b[0m\n\u001b[0m",
      "\u001b[0;32m<ipython-input-16-28195e1fe0a8>\u001b[0m in \u001b[0;36mcrossvalidate\u001b[0;34m(X, Y, f, trainfunction)\u001b[0m\n\u001b[1;32m     11\u001b[0m         \u001b[0;34m...\u001b[0m\u001b[0;34m\u001b[0m\u001b[0;34m\u001b[0m\u001b[0m\n\u001b[1;32m     12\u001b[0m         \u001b[0;31m# train classifier\u001b[0m\u001b[0;34m\u001b[0m\u001b[0;34m\u001b[0m\u001b[0;34m\u001b[0m\u001b[0m\n\u001b[0;32m---> 13\u001b[0;31m         \u001b[0mw\u001b[0m\u001b[0;34m,\u001b[0m \u001b[0mb\u001b[0m \u001b[0;34m=\u001b[0m \u001b[0mtrainfunction\u001b[0m\u001b[0;34m(\u001b[0m\u001b[0mX\u001b[0m\u001b[0;34m[\u001b[0m\u001b[0;34m:\u001b[0m\u001b[0;34m,\u001b[0m\u001b[0mtrain\u001b[0m\u001b[0;34m]\u001b[0m\u001b[0;34m,\u001b[0m\u001b[0mY\u001b[0m\u001b[0;34m[\u001b[0m\u001b[0mtrain\u001b[0m\u001b[0;34m]\u001b[0m\u001b[0;34m)\u001b[0m\u001b[0;34m\u001b[0m\u001b[0;34m\u001b[0m\u001b[0m\n\u001b[0m\u001b[1;32m     14\u001b[0m         \u001b[0;31m# compute accuracy on training data\u001b[0m\u001b[0;34m\u001b[0m\u001b[0;34m\u001b[0m\u001b[0;34m\u001b[0m\u001b[0m\n\u001b[1;32m     15\u001b[0m         \u001b[0macc_train\u001b[0m\u001b[0;34m[\u001b[0m\u001b[0mifold\u001b[0m\u001b[0;34m]\u001b[0m \u001b[0;34m=\u001b[0m \u001b[0mpredict\u001b[0m\u001b[0;34m(\u001b[0m\u001b[0;34m(\u001b[0m\u001b[0mw\u001b[0m\u001b[0;34m,\u001b[0m\u001b[0mb\u001b[0m\u001b[0;34m)\u001b[0m\u001b[0;34m,\u001b[0m \u001b[0mX\u001b[0m\u001b[0;34m)\u001b[0m\u001b[0;34m\u001b[0m\u001b[0;34m\u001b[0m\u001b[0m\n",
      "\u001b[0;31mNameError\u001b[0m: name 'train' is not defined"
     ]
    }
   ],
   "source": [
    "X,Y = load_data('bcidata.mat')\n",
    "crossvalidate(X,Y,f=10,trainfunction=train_lda)"
   ]
  },
  {
   "cell_type": "code",
   "execution_count": null,
   "metadata": {},
   "outputs": [],
   "source": []
  }
 ],
 "metadata": {
  "kernelspec": {
   "display_name": "Python 3",
   "language": "python",
   "name": "python3"
  },
  "language_info": {
   "codemirror_mode": {
    "name": "ipython",
    "version": 3
   },
   "file_extension": ".py",
   "mimetype": "text/x-python",
   "name": "python",
   "nbconvert_exporter": "python",
   "pygments_lexer": "ipython3",
   "version": "3.8.8"
  }
 },
 "nbformat": 4,
 "nbformat_minor": 2
}
