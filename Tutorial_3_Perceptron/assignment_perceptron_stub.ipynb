{
 "cells": [
  {
   "cell_type": "code",
   "execution_count": 139,
   "id": "3ce31eff",
   "metadata": {},
   "outputs": [],
   "source": [
    "import pylab as pl\n",
    "import scipy as sp\n",
    "import numpy as np\n",
    "from scipy.io import loadmat\n",
    "import pdb"
   ]
  },
  {
   "cell_type": "code",
   "execution_count": 140,
   "id": "400015dc",
   "metadata": {},
   "outputs": [],
   "source": [
    "import warnings\n",
    "warnings.filterwarnings('ignore')"
   ]
  },
  {
   "cell_type": "code",
   "execution_count": 141,
   "id": "67d7e832",
   "metadata": {},
   "outputs": [],
   "source": [
    "def load_data(fname):\n",
    "    # load the data\n",
    "    data = loadmat(fname)\n",
    "    # extract images and labels\n",
    "    imgs = data['data_patterns']\n",
    "    labels = data['data_labels']\n",
    "    return imgs, labels"
   ]
  },
  {
   "cell_type": "code",
   "execution_count": 142,
   "id": "fe620824",
   "metadata": {},
   "outputs": [
    {
     "data": {
      "text/plain": [
       "(array([[-0.99999911, -0.99999982, -0.99810815, ..., -0.9999848 ,\n",
       "         -0.99988925, -0.99999988],\n",
       "        [-0.999928  , -0.99999666, -0.96389002, ..., -0.99854738,\n",
       "         -0.99694294, -0.99999988],\n",
       "        [-0.99788511, -0.99981362, -0.76736605, ..., -0.96670383,\n",
       "         -0.96289396, -0.99999988],\n",
       "        ...,\n",
       "        [-0.99999714, -0.99979782, -0.91768515, ..., -0.99999988,\n",
       "         -0.99827731, -0.99999487],\n",
       "        [-0.99999988, -0.99998116, -0.98832631, ..., -0.99999988,\n",
       "         -0.99992406, -0.99999988],\n",
       "        [-0.99999988, -0.99999893, -0.99942124, ..., -0.99999988,\n",
       "         -0.99999785, -0.99999988]]),\n",
       " array([[-1, -1, -1, ..., -1,  1, -1],\n",
       "        [-1, -1, -1, ..., -1, -1,  1],\n",
       "        [-1, -1, -1, ..., -1, -1, -1],\n",
       "        ...,\n",
       "        [-1, -1, -1, ..., -1, -1, -1],\n",
       "        [-1, -1, -1, ..., -1, -1, -1],\n",
       "        [ 1, -1, -1, ..., -1, -1, -1]], dtype=int16))"
      ]
     },
     "execution_count": 142,
     "metadata": {},
     "output_type": "execute_result"
    }
   ],
   "source": [
    "fname = \"usps.mat\"\n",
    "imgs,labels = load_data(fname)\n",
    "imgs,labels"
   ]
  },
  {
   "cell_type": "code",
   "execution_count": 143,
   "id": "b49d16d4",
   "metadata": {},
   "outputs": [
    {
     "data": {
      "text/plain": [
       "((256, 2007), (10, 2007))"
      ]
     },
     "execution_count": 143,
     "metadata": {},
     "output_type": "execute_result"
    }
   ],
   "source": [
    "imgs.shape,labels.shape"
   ]
  },
  {
   "cell_type": "code",
   "execution_count": 144,
   "id": "09104548",
   "metadata": {},
   "outputs": [
    {
     "data": {
      "text/plain": [
       "(array([-1,  1], dtype=int16), array([9, 1]))"
      ]
     },
     "execution_count": 144,
     "metadata": {},
     "output_type": "execute_result"
    }
   ],
   "source": [
    "np.unique(labels[:,0], return_counts=True)"
   ]
  },
  {
   "cell_type": "code",
   "execution_count": 146,
   "id": "3d001eff",
   "metadata": {},
   "outputs": [],
   "source": [
    "def prediction(X, weights):\n",
    "    pred = (X.T @ weights).T\n",
    "    pred[pred>=0] = 1\n",
    "    pred[pred<0] = -1\n",
    "    return pred\n",
    "    "
   ]
  },
  {
   "cell_type": "code",
   "execution_count": 210,
   "id": "161af9dd",
   "metadata": {},
   "outputs": [],
   "source": [
    "def perceptron_train(X,Y,Xtest,Ytest,iterations=100,eta=0.1):\n",
    "    \n",
    "    # initialize accuracy vector\n",
    "    acc = np.zeros(iterations)\n",
    "    # initialize weight vector\n",
    "    weights = np.random.random((X.shape[0]))\n",
    "    # loop over iterations    \n",
    "    for it in sp.arange(iterations):\n",
    "    # find all indices of misclassified data\n",
    "    \n",
    "        pred = prediction(X, weights)\n",
    "        idx = list((pred != Y))\n",
    "        wrong = X.T[idx]\n",
    "        \n",
    "        # check if there really are misclassified data\n",
    "        if wrong.shape[0] > 0:\n",
    "            \n",
    "            # pick a random misclassified data point\n",
    "            rand_int = int(np.random.randint(wrong.shape[0]))\n",
    "            rit = wrong[rand_int]\n",
    "            weights += eta*rit*Y[idx][rand_int]/(it%20+1)\n",
    "            \n",
    "            # compute accuracy vector\n",
    "            acc[it] = np.sum(prediction(Xtest,weights) == Ytest)/Ytest.shape[0]\n",
    "    # return weight vector and accuracy\n",
    "    return weights,acc\n"
   ]
  },
  {
   "cell_type": "code",
   "execution_count": 211,
   "id": "b10c64fd",
   "metadata": {},
   "outputs": [
    {
     "data": {
      "image/png": "[encoded data removed]",
      "text/plain": [
       "<Figure size 720x360 with 3 Axes>"
      ]
     },
     "metadata": {
      "needs_background": "light"
     },
     "output_type": "display_data"
    }
   ],
   "source": [
    "def digits(digit):\n",
    "    fname = \"usps.mat\"\n",
    "    imgs,labels = load_data(fname)\n",
    "    # we only want to classify one digit \n",
    "    labels = sp.sign((labels[digit,:]>0)-.5)\n",
    "\n",
    "    # please think about what the next lines do\n",
    "    permidx = sp.random.permutation(sp.arange(imgs.shape[-1]))\n",
    "    trainpercent = 70.\n",
    "    stopat = sp.floor(labels.shape[-1]*trainpercent/100.)\n",
    "    stopat= int(stopat)\n",
    "\n",
    "    # cut segment data into train and test set into two non-overlapping sets:\n",
    "    X = imgs[:, permidx[:stopat], ]\n",
    "    Y = labels[permidx[:stopat]]\n",
    "    Xtest = imgs[:, permidx[stopat:]]\n",
    "    Ytest = labels[permidx[stopat:]]\n",
    "    #check that shapes of X and Y make sense..\n",
    "    # it might makes sense to print them\n",
    "    \n",
    "    w,acc_perceptron = perceptron_train(X,Y, Xtest,Ytest)\n",
    "\n",
    "    fig = pl.figure(figsize=(10,5))\n",
    "    ax1 = fig.add_subplot(1,2,1)\n",
    "    ax1.plot(acc_perceptron*100.)\n",
    "    pl.xlabel('Iterations')\n",
    "    pl.title('Linear Perceptron')\n",
    "    pl.ylabel('Accuracy [%]')\n",
    "\n",
    "    # and imshow the weight vector\n",
    "    ax2 = fig.add_subplot(1,2,2)\n",
    "    # reshape weight vector\n",
    "    weights = sp.reshape(w,(int(sp.sqrt(imgs.shape[0])),int(sp.sqrt(imgs.shape[0]))))\n",
    "    # plot the weight image\n",
    "    imgh = ax2.imshow(weights)\n",
    "    # with colorbar\n",
    "    pl.colorbar(imgh)\n",
    "    ax2.set_title('Weight vector')\n",
    "    # remove axis ticks\n",
    "    pl.xticks(())\n",
    "    pl.yticks(())\n",
    "    # remove axis ticks\n",
    "    pl.xticks(())\n",
    "    pl.yticks(())\n",
    "\n",
    "    # write the picture to pdf\n",
    "    fname = 'Perceptron_digits-%d.pdf'%digit\n",
    "    pl.savefig(fname)\n",
    "\n",
    "\n",
    "digits(0)"
   ]
  },
  {
   "cell_type": "code",
   "execution_count": null,
   "id": "9e91cae7",
   "metadata": {},
   "outputs": [],
   "source": []
  },
  {
   "cell_type": "code",
   "execution_count": null,
   "id": "0af4a89f",
   "metadata": {},
   "outputs": [],
   "source": []
  },
  {
   "cell_type": "code",
   "execution_count": null,
   "id": "66219a7f",
   "metadata": {},
   "outputs": [],
   "source": []
  }
 ],
 "metadata": {
  "kernelspec": {
   "display_name": "Python 3",
   "language": "python",
   "name": "python3"
  },
  "language_info": {
   "codemirror_mode": {
    "name": "ipython",
    "version": 3
   },
   "file_extension": ".py",
   "mimetype": "text/x-python",
   "name": "python",
   "nbconvert_exporter": "python",
   "pygments_lexer": "ipython3",
   "version": "3.8.8"
  }
 },
 "nbformat": 4,
 "nbformat_minor": 5
}
