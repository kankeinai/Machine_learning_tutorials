{
 "cells": [
  {
   "cell_type": "markdown",
   "id": "83883769",
   "metadata": {},
   "source": [
    "# Nearest centroid classifier \n",
    "In this jupyter notebook, I am going to implement nearesest centroid classifier as a part of machine learning class in my university"
   ]
  },
  {
   "cell_type": "code",
   "execution_count": 30,
   "id": "2b3f9a9c",
   "metadata": {},
   "outputs": [],
   "source": [
    "import numpy as np"
   ]
  },
  {
   "cell_type": "code",
   "execution_count": 101,
   "id": "e3b4bf07",
   "metadata": {},
   "outputs": [],
   "source": [
    "#import neccessary data\n",
    "train_y = np.array([0,1,0,0,1,1,1])\n",
    "train_x = np.array([[10,20,10],[50,60, 1],[8,11,34],[7,14,23],[55,65,2 ],[49,63,2],[47,53,0]])\n",
    "test_x = np.array([[0,0,0],[1,1,1],[50,60,1]])\n",
    "\n",
    "num_feat = train_x.shape[1]\n",
    "num_class = len(set(train_y))"
   ]
  },
  {
   "cell_type": "code",
   "execution_count": 102,
   "id": "30cd5f61",
   "metadata": {},
   "outputs": [
    {
     "data": {
      "text/plain": [
       "(array([[0., 0., 0.],\n",
       "        [0., 0., 0.]]),\n",
       " array([0., 0., 0.]))"
      ]
     },
     "execution_count": 102,
     "metadata": {},
     "output_type": "execute_result"
    }
   ],
   "source": [
    "mu = np.array([np.zeros(num_feat)]*num_class)\n",
    "N = np.zeros(num_feat)\n",
    "mu, N"
   ]
  },
  {
   "cell_type": "code",
   "execution_count": 103,
   "id": "c940ad0d",
   "metadata": {},
   "outputs": [],
   "source": [
    "for row, label in zip(x,y):\n",
    "    mu[label] = N[label]/(N[label]+1)*mu[label] + row/(N+1)\n",
    "    N[label] += 1"
   ]
  },
  {
   "cell_type": "code",
   "execution_count": 104,
   "id": "9fe7c1a3",
   "metadata": {},
   "outputs": [],
   "source": [
    "def predict_class(x, mu):\n",
    "\n",
    "    dist = np.sqrt(np.sum((mu-x)**2, axis=1))\n",
    "    return np.argmin(dist)\n",
    "    "
   ]
  },
  {
   "cell_type": "code",
   "execution_count": 107,
   "id": "58174f13",
   "metadata": {},
   "outputs": [
    {
     "data": {
      "text/plain": [
       "1"
      ]
     },
     "execution_count": 107,
     "metadata": {},
     "output_type": "execute_result"
    }
   ],
   "source": [
    "predict_class([78,40,1],mu)"
   ]
  },
  {
   "cell_type": "markdown",
   "id": "95e713c5",
   "metadata": {},
   "source": [
    "## Try to create a class for a model"
   ]
  },
  {
   "cell_type": "code",
   "execution_count": 130,
   "id": "00ee4ce2",
   "metadata": {},
   "outputs": [],
   "source": [
    "class Nearest_centroid:\n",
    "    def __init__(self, y, x):\n",
    "        num_feat = x.shape[1]\n",
    "        num_class = len(set(y))\n",
    "        self.x = x\n",
    "        self.y = y\n",
    "        self.mu = np.array([np.zeros(num_feat)]*num_class)\n",
    "        self.N = np.zeros(num_feat)\n",
    "        \n",
    "    def fit(self):\n",
    "        for row, label in zip(self.x, self.y):\n",
    "            self.mu[label] = self.N[label]/(self.N[label]+1)*self.mu[label] + row/(self.N[label]+1)\n",
    "            self.N[label] += 1\n",
    "        print(f\"Final weights for centroids:\")\n",
    "        for i, mu in enumerate(self.mu):\n",
    "            print(f\"Class {i} centroid: {mu}\")\n",
    "        return print(\"Done. Ready to predict.\")\n",
    "    \n",
    "    def predict(self, x):\n",
    "        dist = [np.sqrt(np.sum((self.mu-item)**2, axis=1)) for item in x]\n",
    "        result = np.argmin(dist, axis=1)\n",
    "        \n",
    "        for X, c in zip(x, result):\n",
    "            print(f\"Predicted class {c} for {X}\")\n",
    "            \n",
    "        return np.argmin(dist, axis=1)"
   ]
  },
  {
   "cell_type": "code",
   "execution_count": 131,
   "id": "26afc8f6",
   "metadata": {},
   "outputs": [
    {
     "name": "stdout",
     "output_type": "stream",
     "text": [
      "Final weights for centroids:\n",
      "Class 0 centroid: [ 8.33333333 15.         22.33333333]\n",
      "Class 1 centroid: [50.25 60.25  1.25]\n",
      "Done. Ready to predict.\n"
     ]
    }
   ],
   "source": [
    "model = Nearest_centroid(train_y, train_x)\n",
    "model.fit()"
   ]
  },
  {
   "cell_type": "code",
   "execution_count": 132,
   "id": "327cf328",
   "metadata": {},
   "outputs": [
    {
     "name": "stdout",
     "output_type": "stream",
     "text": [
      "Predicted class 0 for [0 0 0]\n",
      "Predicted class 0 for [1 1 1]\n",
      "Predicted class 1 for [50 60  1]\n"
     ]
    },
    {
     "data": {
      "text/plain": [
       "array([0, 0, 1])"
      ]
     },
     "execution_count": 132,
     "metadata": {},
     "output_type": "execute_result"
    }
   ],
   "source": [
    "model.predict(test_x)"
   ]
  },
  {
   "cell_type": "markdown",
   "id": "184e2103",
   "metadata": {},
   "source": [
    "Done."
   ]
  }
 ],
 "metadata": {
  "kernelspec": {
   "display_name": "Python 3",
   "language": "python",
   "name": "python3"
  },
  "language_info": {
   "codemirror_mode": {
    "name": "ipython",
    "version": 3
   },
   "file_extension": ".py",
   "mimetype": "text/x-python",
   "name": "python",
   "nbconvert_exporter": "python",
   "pygments_lexer": "ipython3",
   "version": "3.8.8"
  }
 },
 "nbformat": 4,
 "nbformat_minor": 5
}
