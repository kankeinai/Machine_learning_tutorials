{
 "cells": [
  {
   "cell_type": "markdown",
   "id": "6f6c29d8",
   "metadata": {},
   "source": [
    "# Perceptron, own implementation"
   ]
  },
  {
   "cell_type": "markdown",
   "id": "da3b13eb",
   "metadata": {},
   "source": [
    "## Initial thoughts"
   ]
  },
  {
   "cell_type": "code",
   "execution_count": 1,
   "id": "1a3a7d2b",
   "metadata": {},
   "outputs": [
    {
     "data": {
      "text/plain": [
       "array([[0.63078102, 0.0579744 , 0.2202482 , 0.58459194, 0.55162977],\n",
       "       [0.53027835, 0.9823172 , 0.38097299, 0.9972408 , 0.01858377],\n",
       "       [0.18880839, 0.64529794, 0.27364051, 0.02935776, 0.22365257],\n",
       "       [0.32955855, 0.69901427, 0.3399127 , 0.4704192 , 0.16610002],\n",
       "       [0.88189002, 0.05137621, 0.90993115, 0.07034032, 0.45177789],\n",
       "       [0.58790876, 0.51415597, 0.81068967, 0.69142369, 0.21665172],\n",
       "       [0.2153412 , 0.91464437, 0.88551679, 0.15638836, 0.18677953],\n",
       "       [0.20395338, 0.97250839, 0.52824024, 0.52028726, 0.2154978 ],\n",
       "       [0.35651276, 0.19857353, 0.44073667, 0.06591182, 0.6700664 ],\n",
       "       [0.06248351, 0.79418714, 0.4406512 , 0.88011324, 0.42931388]])"
      ]
     },
     "execution_count": 1,
     "metadata": {},
     "output_type": "execute_result"
    }
   ],
   "source": [
    "import numpy as np\n",
    "\n",
    "n = 10\n",
    "m = 5\n",
    "c = 3\n",
    "alpha = 0.1\n",
    "\n",
    "data = np.random.random((n, m))\n",
    "data"
   ]
  },
  {
   "cell_type": "code",
   "execution_count": 2,
   "id": "5583fa78",
   "metadata": {},
   "outputs": [
    {
     "data": {
      "text/plain": [
       "array([1, 1, 2, 0, 1, 0, 0, 1, 1, 1])"
      ]
     },
     "execution_count": 2,
     "metadata": {},
     "output_type": "execute_result"
    }
   ],
   "source": [
    "labels = np.random.randint(c, size = n)\n",
    "labels"
   ]
  },
  {
   "cell_type": "code",
   "execution_count": 3,
   "id": "4a5ffd5b",
   "metadata": {},
   "outputs": [
    {
     "data": {
      "text/plain": [
       "array([[0.22230069, 0.49047812, 0.11804538, 0.76396512, 0.89500413],\n",
       "       [0.26060862, 0.94742665, 0.81201772, 0.53079593, 0.67535104],\n",
       "       [0.35611797, 0.65531591, 0.37485433, 0.02906808, 0.81896017]])"
      ]
     },
     "execution_count": 3,
     "metadata": {},
     "output_type": "execute_result"
    }
   ],
   "source": [
    "W = np.random.random((c, m))\n",
    "W"
   ]
  },
  {
   "cell_type": "code",
   "execution_count": 4,
   "id": "7b0b9acf",
   "metadata": {},
   "outputs": [
    {
     "data": {
      "text/plain": [
       "array([[1.13497628, 1.08100166, 0.81394077],\n",
       "       [1.42314818, 1.92010734, 1.01958636],\n",
       "       [0.61337703, 1.04940547, 0.77670332],\n",
       "       [0.96428149, 1.3860381 , 0.85255812],\n",
       "       [0.78673746, 1.35982856, 1.06084891],\n",
       "       [1.20070071, 1.81195438, 1.04771748],\n",
       "       [0.88765842, 1.85088559, 1.16551859],\n",
       "       [1.17504212, 1.82517582, 1.09955269],\n",
       "       [0.87874246, 1.1264459 , 0.97297467],\n",
       "       [1.5120519 , 1.88363248, 1.08504915]])"
      ]
     },
     "execution_count": 4,
     "metadata": {},
     "output_type": "execute_result"
    }
   ],
   "source": [
    "data@W.T"
   ]
  },
  {
   "cell_type": "code",
   "execution_count": 5,
   "id": "d3d9c72b",
   "metadata": {},
   "outputs": [
    {
     "data": {
      "text/plain": [
       "array([0, 1, 1, 1, 1, 1, 1, 1, 1, 1])"
      ]
     },
     "execution_count": 5,
     "metadata": {},
     "output_type": "execute_result"
    }
   ],
   "source": [
    "pred = np.argmax(data@W.T, axis=1)\n",
    "pred"
   ]
  },
  {
   "cell_type": "code",
   "execution_count": 6,
   "id": "fbb79840",
   "metadata": {},
   "outputs": [
    {
     "data": {
      "text/plain": [
       "array([False,  True, False, False,  True, False, False,  True,  True,\n",
       "        True])"
      ]
     },
     "execution_count": 6,
     "metadata": {},
     "output_type": "execute_result"
    }
   ],
   "source": [
    "correct = (pred == labels)\n",
    "correct"
   ]
  },
  {
   "cell_type": "code",
   "execution_count": 7,
   "id": "601f9b10",
   "metadata": {},
   "outputs": [
    {
     "name": "stdout",
     "output_type": "stream",
     "text": [
      "False 0\n",
      "False 1\n",
      "False 1\n",
      "False 1\n",
      "False 1\n"
     ]
    }
   ],
   "source": [
    "for c, p, l, it in zip(correct,pred, labels, range(n)):\n",
    "    if not c:\n",
    "        print(c, p)\n",
    "        W[p] -= alpha* (data[it]*l)/(it+1)\n",
    "        W[l] += alpha* (data[it]*l)/(it+1)\n",
    "        "
   ]
  },
  {
   "cell_type": "code",
   "execution_count": 8,
   "id": "45cf699d",
   "metadata": {},
   "outputs": [
    {
     "data": {
      "text/plain": [
       "array([[0.15922258, 0.48468068, 0.09602056, 0.70550593, 0.83984115],\n",
       "       [0.3110995 , 0.91020422, 0.81579984, 0.58729794, 0.71560384],\n",
       "       [0.3687052 , 0.69833577, 0.39309703, 0.03102526, 0.83387034]])"
      ]
     },
     "execution_count": 8,
     "metadata": {},
     "output_type": "execute_result"
    }
   ],
   "source": [
    "W"
   ]
  },
  {
   "cell_type": "code",
   "execution_count": 9,
   "id": "e613e0a3",
   "metadata": {},
   "outputs": [
    {
     "data": {
      "text/plain": [
       "array([1, 1, 1, 1, 1, 1, 1, 1, 1, 1])"
      ]
     },
     "execution_count": 9,
     "metadata": {},
     "output_type": "execute_result"
    }
   ],
   "source": [
    "pred = np.argmax(data@W.T, axis=1)\n",
    "pred"
   ]
  },
  {
   "cell_type": "markdown",
   "id": "5558bfcc",
   "metadata": {},
   "source": [
    "## Final version"
   ]
  },
  {
   "cell_type": "code",
   "execution_count": 10,
   "id": "7f2f9d10",
   "metadata": {},
   "outputs": [
    {
     "data": {
      "text/plain": [
       "array([1, 1, 1, 1, 0, 1, 1, 1, 0, 1])"
      ]
     },
     "execution_count": 10,
     "metadata": {},
     "output_type": "execute_result"
    }
   ],
   "source": [
    "n = 10\n",
    "m = 5\n",
    "c = 3\n",
    "\n",
    "data = np.random.random((n, m))\n",
    "labels = np.random.randint(c, size = n)\n",
    "labels"
   ]
  },
  {
   "cell_type": "code",
   "execution_count": 11,
   "id": "e969030c",
   "metadata": {},
   "outputs": [],
   "source": [
    "def multy_class_perceptron(data, labels, c):\n",
    "    n, m = data.shape\n",
    "    W = np.random.random((c, m))\n",
    "    \n",
    "    for epoch in range(1, 20):\n",
    "        \n",
    "        pred = np.argmax(data@W.T, axis=1)\n",
    "        correct = pred == labels\n",
    "\n",
    "        for c, p, l, it in zip(correct,pred, labels, range(n)):\n",
    "            if not c:\n",
    "                W[p] -= (data[it]*l)/epoch\n",
    "                W[l] += (data[it]*l)/epoch\n",
    "    \n",
    "    return np.argmax(data@W.T, axis=1), sum(pred==labels)/len(labels)\n",
    "        \n",
    "    "
   ]
  },
  {
   "cell_type": "code",
   "execution_count": 12,
   "id": "ae6e6f26",
   "metadata": {},
   "outputs": [
    {
     "data": {
      "text/plain": [
       "(array([1, 1, 1, 1, 1, 1, 1, 1, 1, 1]), 0.8)"
      ]
     },
     "execution_count": 12,
     "metadata": {},
     "output_type": "execute_result"
    }
   ],
   "source": [
    "multy_class_perceptron(data, labels, c)"
   ]
  },
  {
   "cell_type": "code",
   "execution_count": null,
   "id": "9a58d2bf",
   "metadata": {},
   "outputs": [],
   "source": []
  },
  {
   "cell_type": "code",
   "execution_count": null,
   "id": "923d9f46",
   "metadata": {},
   "outputs": [],
   "source": []
  }
 ],
 "metadata": {
  "kernelspec": {
   "display_name": "Python 3",
   "language": "python",
   "name": "python3"
  },
  "language_info": {
   "codemirror_mode": {
    "name": "ipython",
    "version": 3
   },
   "file_extension": ".py",
   "mimetype": "text/x-python",
   "name": "python",
   "nbconvert_exporter": "python",
   "pygments_lexer": "ipython3",
   "version": "3.8.8"
  }
 },
 "nbformat": 4,
 "nbformat_minor": 5
}
