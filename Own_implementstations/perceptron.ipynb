{
 "cells": [
  {
   "cell_type": "markdown",
   "id": "6f6c29d8",
   "metadata": {},
   "source": [
    "# Perceptron, own implementation"
   ]
  },
  {
   "cell_type": "markdown",
   "id": "da3b13eb",
   "metadata": {},
   "source": [
    "## Initial thoughts"
   ]
  },
  {
   "cell_type": "code",
   "execution_count": null,
   "id": "117d6480",
   "metadata": {},
   "outputs": [],
   "source": []
  },
  {
   "cell_type": "code",
   "execution_count": 5,
   "id": "5583fa78",
   "metadata": {},
   "outputs": [
    {
     "data": {
      "text/plain": [
       "array([0., 1.], dtype=float32)"
      ]
     },
     "execution_count": 5,
     "metadata": {},
     "output_type": "execute_result"
    }
   ],
   "source": [
    "labels = np.unique(y_train)\n",
    "labels"
   ]
  },
  {
   "cell_type": "code",
   "execution_count": null,
   "id": "4a5ffd5b",
   "metadata": {},
   "outputs": [],
   "source": [
    "W = np.random.random((c, m))\n",
    "W"
   ]
  },
  {
   "cell_type": "code",
   "execution_count": null,
   "id": "7b0b9acf",
   "metadata": {},
   "outputs": [],
   "source": [
    "data@W.T"
   ]
  },
  {
   "cell_type": "code",
   "execution_count": null,
   "id": "d3d9c72b",
   "metadata": {},
   "outputs": [],
   "source": [
    "pred = np.argmax(data@W.T, axis=1)\n",
    "pred"
   ]
  },
  {
   "cell_type": "code",
   "execution_count": null,
   "id": "fbb79840",
   "metadata": {},
   "outputs": [],
   "source": [
    "correct = (pred == labels)\n",
    "correct"
   ]
  },
  {
   "cell_type": "code",
   "execution_count": null,
   "id": "601f9b10",
   "metadata": {},
   "outputs": [],
   "source": [
    "for c, p, l, it in zip(correct,pred, labels, range(n)):\n",
    "    if not c:\n",
    "        print(c, p)\n",
    "        W[p] -= alpha* (data[it]*l)/(it+1)\n",
    "        W[l] += alpha* (data[it]*l)/(it+1)\n",
    "        "
   ]
  },
  {
   "cell_type": "code",
   "execution_count": null,
   "id": "45cf699d",
   "metadata": {},
   "outputs": [],
   "source": [
    "W"
   ]
  },
  {
   "cell_type": "code",
   "execution_count": null,
   "id": "e613e0a3",
   "metadata": {},
   "outputs": [],
   "source": [
    "pred = np.argmax(data@W.T, axis=1)\n",
    "pred"
   ]
  },
  {
   "cell_type": "markdown",
   "id": "5558bfcc",
   "metadata": {},
   "source": [
    "## Final version"
   ]
  },
  {
   "cell_type": "code",
   "execution_count": null,
   "id": "7f2f9d10",
   "metadata": {},
   "outputs": [],
   "source": [
    "n = 10\n",
    "m = 5\n",
    "c = 3\n",
    "\n",
    "data = np.random.random((n, m))\n",
    "labels = np.random.randint(c, size = n)\n",
    "labels"
   ]
  },
  {
   "cell_type": "code",
   "execution_count": null,
   "id": "e969030c",
   "metadata": {},
   "outputs": [],
   "source": [
    "def multy_class_perceptron(data, labels, c):\n",
    "    n, m = data.shape\n",
    "    W = np.random.random((c, m))\n",
    "    \n",
    "    for epoch in range(1, 20):\n",
    "        \n",
    "        pred = np.argmax(data@W.T, axis=1)\n",
    "        correct = pred == labels\n",
    "\n",
    "        for c, p, l, it in zip(correct,pred, labels, range(n)):\n",
    "            if not c:\n",
    "                W[p] -= (data[it]*l)/epoch\n",
    "                W[l] += (data[it]*l)/epoch\n",
    "    \n",
    "    return np.argmax(data@W.T, axis=1), sum(pred==labels)/len(labels)\n",
    "        \n",
    "    "
   ]
  },
  {
   "cell_type": "code",
   "execution_count": null,
   "id": "ae6e6f26",
   "metadata": {},
   "outputs": [],
   "source": [
    "multy_class_perceptron(data, labels, c)"
   ]
  },
  {
   "cell_type": "code",
   "execution_count": null,
   "id": "9a58d2bf",
   "metadata": {},
   "outputs": [],
   "source": []
  },
  {
   "cell_type": "code",
   "execution_count": null,
   "id": "923d9f46",
   "metadata": {},
   "outputs": [],
   "source": []
  }
 ],
 "metadata": {
  "kernelspec": {
   "display_name": "Python 3",
   "language": "python",
   "name": "python3"
  },
  "language_info": {
   "codemirror_mode": {
    "name": "ipython",
    "version": 3
   },
   "file_extension": ".py",
   "mimetype": "text/x-python",
   "name": "python",
   "nbconvert_exporter": "python",
   "pygments_lexer": "ipython3",
   "version": "3.8.8"
  }
 },
 "nbformat": 4,
 "nbformat_minor": 5
}
