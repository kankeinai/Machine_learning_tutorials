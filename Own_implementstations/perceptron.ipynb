{
 "cells": [
  {
   "cell_type": "markdown",
   "id": "6f6c29d8",
   "metadata": {},
   "source": [
    "# Perceptron, own implementation"
   ]
  },
  {
   "cell_type": "markdown",
   "id": "da3b13eb",
   "metadata": {},
   "source": [
    "## Initial thoughts"
   ]
  },
  {
   "cell_type": "code",
   "execution_count": 1,
   "id": "1a3a7d2b",
   "metadata": {},
   "outputs": [
    {
     "data": {
      "text/plain": [
       "array([[0.03798095, 0.61439613, 0.36908806, 0.83276492, 0.61904787],\n",
       "       [0.34634682, 0.87743732, 0.62353323, 0.94515333, 0.25584886],\n",
       "       [0.68325232, 0.24182126, 0.64829868, 0.87005144, 0.57656399],\n",
       "       [0.85060238, 0.70405897, 0.8509097 , 0.85284344, 0.21426654],\n",
       "       [0.06149859, 0.09363381, 0.73844567, 0.56639185, 0.81304941],\n",
       "       [0.86793334, 0.11113338, 0.0473088 , 0.63692838, 0.14552822],\n",
       "       [0.88422422, 0.80610938, 0.49929426, 0.4374911 , 0.56821186],\n",
       "       [0.09743868, 0.108054  , 0.46830123, 0.65872883, 0.18687934],\n",
       "       [0.36190803, 0.11259089, 0.24695837, 0.83318347, 0.88016751],\n",
       "       [0.99647389, 0.34508511, 0.45274663, 0.53217139, 0.44659253]])"
      ]
     },
     "execution_count": 1,
     "metadata": {},
     "output_type": "execute_result"
    }
   ],
   "source": [
    "import numpy as np\n",
    "\n",
    "n = 10\n",
    "m = 5\n",
    "c = 3\n",
    "alpha = 0.1\n",
    "\n",
    "data = np.random.random((n, m))\n",
    "data"
   ]
  },
  {
   "cell_type": "code",
   "execution_count": 2,
   "id": "5583fa78",
   "metadata": {},
   "outputs": [
    {
     "data": {
      "text/plain": [
       "array([1, 1, 0, 2, 1, 2, 1, 1, 2, 1])"
      ]
     },
     "execution_count": 2,
     "metadata": {},
     "output_type": "execute_result"
    }
   ],
   "source": [
    "labels = np.random.randint(c, size = n)\n",
    "labels"
   ]
  },
  {
   "cell_type": "code",
   "execution_count": 3,
   "id": "4a5ffd5b",
   "metadata": {},
   "outputs": [
    {
     "data": {
      "text/plain": [
       "array([[0.81615756, 0.43314083, 0.06907804, 0.0524401 , 0.95943114],\n",
       "       [0.60798076, 0.10538714, 0.13609275, 0.26610823, 0.29490333],\n",
       "       [0.9707698 , 0.4491137 , 0.18862157, 0.20241754, 0.91854304]])"
      ]
     },
     "execution_count": 3,
     "metadata": {},
     "output_type": "execute_result"
    }
   ],
   "source": [
    "W = np.random.random((c, m))\n",
    "W"
   ]
  },
  {
   "cell_type": "code",
   "execution_count": 4,
   "id": "7b0b9acf",
   "metadata": {},
   "outputs": [
    {
     "data": {
      "text/plain": [
       "array([[0.96021845, 0.54223622, 1.11961078],\n",
       "       [1.00083326, 0.71486492, 1.27422777],\n",
       "       [1.30596644, 0.93067635, 1.59988158],\n",
       "       [1.30825862, 0.99728786, 1.67188507],\n",
       "       [0.95152612, 0.53824737, 1.1025085 ],\n",
       "       [0.93279966, 0.75824583, 1.16399787],\n",
       "       [1.67341768, 0.97448276, 1.92507352],\n",
       "       [0.37251891, 0.36476525, 0.53644575],\n",
       "       [1.24935343, 0.7467893 , 1.42559985],\n",
       "       [1.45040691, 0.97713683, 1.72566227]])"
      ]
     },
     "execution_count": 4,
     "metadata": {},
     "output_type": "execute_result"
    }
   ],
   "source": [
    "data@W.T"
   ]
  },
  {
   "cell_type": "code",
   "execution_count": 5,
   "id": "d3d9c72b",
   "metadata": {},
   "outputs": [
    {
     "data": {
      "text/plain": [
       "array([2, 2, 2, 2, 2, 2, 2, 2, 2, 2])"
      ]
     },
     "execution_count": 5,
     "metadata": {},
     "output_type": "execute_result"
    }
   ],
   "source": [
    "pred = np.argmax(data@W.T, axis=1)\n",
    "pred"
   ]
  },
  {
   "cell_type": "code",
   "execution_count": 6,
   "id": "fbb79840",
   "metadata": {},
   "outputs": [
    {
     "data": {
      "text/plain": [
       "array([False, False, False,  True, False,  True, False, False,  True,\n",
       "       False])"
      ]
     },
     "execution_count": 6,
     "metadata": {},
     "output_type": "execute_result"
    }
   ],
   "source": [
    "correct = (pred == labels)\n",
    "correct"
   ]
  },
  {
   "cell_type": "code",
   "execution_count": 7,
   "id": "601f9b10",
   "metadata": {},
   "outputs": [
    {
     "name": "stdout",
     "output_type": "stream",
     "text": [
      "False 2\n",
      "False 2\n",
      "False 2\n",
      "False 2\n",
      "False 2\n",
      "False 2\n",
      "False 2\n"
     ]
    }
   ],
   "source": [
    "for c, p, l, it in zip(correct,pred, labels, range(n)):\n",
    "    if not c:\n",
    "        print(c, p)\n",
    "        W[p] -= alpha* (data[it]*l)/(it+1)\n",
    "        W[l] += alpha* (data[it]*l)/(it+1)\n",
    "        "
   ]
  },
  {
   "cell_type": "code",
   "execution_count": 8,
   "id": "45cf699d",
   "metadata": {},
   "outputs": [
    {
     "data": {
      "text/plain": [
       "array([[0.81615756, 0.43314083, 0.06907804, 0.0524401 , 0.95943114],\n",
       "       [0.65414067, 0.22888867, 0.23646114, 0.42777592, 0.40078078],\n",
       "       [0.9246099 , 0.32561217, 0.08825318, 0.04074984, 0.81266559]])"
      ]
     },
     "execution_count": 8,
     "metadata": {},
     "output_type": "execute_result"
    }
   ],
   "source": [
    "W"
   ]
  },
  {
   "cell_type": "code",
   "execution_count": 9,
   "id": "e613e0a3",
   "metadata": {},
   "outputs": [
    {
     "data": {
      "text/plain": [
       "array([0, 1, 0, 1, 0, 2, 0, 1, 0, 2])"
      ]
     },
     "execution_count": 9,
     "metadata": {},
     "output_type": "execute_result"
    }
   ],
   "source": [
    "pred = np.argmax(data@W.T, axis=1)\n",
    "pred"
   ]
  },
  {
   "cell_type": "markdown",
   "id": "5558bfcc",
   "metadata": {},
   "source": [
    "## Final version"
   ]
  },
  {
   "cell_type": "code",
   "execution_count": 22,
   "id": "7f2f9d10",
   "metadata": {},
   "outputs": [
    {
     "data": {
      "text/plain": [
       "array([2, 1, 1, 2, 0, 2, 0, 0, 1, 1])"
      ]
     },
     "execution_count": 22,
     "metadata": {},
     "output_type": "execute_result"
    }
   ],
   "source": [
    "n = 10\n",
    "m = 5\n",
    "c = 3\n",
    "\n",
    "data = np.random.random((n, m))\n",
    "labels = np.random.randint(c, size = n)\n",
    "labels"
   ]
  },
  {
   "cell_type": "code",
   "execution_count": 26,
   "id": "e969030c",
   "metadata": {},
   "outputs": [],
   "source": [
    "def multy_class_perceptron(data, labels, c):\n",
    "    n, m = data.shape\n",
    "    W = np.random.random((c, m))\n",
    "    \n",
    "    for epoch in range(1, 20):\n",
    "        \n",
    "        pred = np.argmax(data@W.T, axis=1)\n",
    "        correct = pred == labels\n",
    "\n",
    "        for c, p, l, it in zip(correct,pred, labels, range(n)):\n",
    "            if not c:\n",
    "                W[p] -= (data[it]*l)/epoch\n",
    "                W[l] += (data[it]*l)/epoch\n",
    "    \n",
    "    return np.argmax(data@W.T, axis=1), sum(pred==labels)/len(labels)\n",
    "        \n",
    "    "
   ]
  },
  {
   "cell_type": "code",
   "execution_count": 27,
   "id": "ae6e6f26",
   "metadata": {},
   "outputs": [
    {
     "data": {
      "text/plain": [
       "(array([2, 1, 1, 2, 1, 2, 1, 1, 1, 1]), 0.7)"
      ]
     },
     "execution_count": 27,
     "metadata": {},
     "output_type": "execute_result"
    }
   ],
   "source": [
    "multy_class_perceptron(data, labels, c)"
   ]
  },
  {
   "cell_type": "code",
   "execution_count": null,
   "id": "9a58d2bf",
   "metadata": {},
   "outputs": [],
   "source": []
  },
  {
   "cell_type": "code",
   "execution_count": null,
   "id": "923d9f46",
   "metadata": {},
   "outputs": [],
   "source": []
  }
 ],
 "metadata": {
  "kernelspec": {
   "display_name": "Python 3",
   "language": "python",
   "name": "python3"
  },
  "language_info": {
   "codemirror_mode": {
    "name": "ipython",
    "version": 3
   },
   "file_extension": ".py",
   "mimetype": "text/x-python",
   "name": "python",
   "nbconvert_exporter": "python",
   "pygments_lexer": "ipython3",
   "version": "3.8.8"
  }
 },
 "nbformat": 4,
 "nbformat_minor": 5
}
